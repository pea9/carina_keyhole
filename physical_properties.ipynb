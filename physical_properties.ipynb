{
 "cells": [
  {
   "cell_type": "code",
   "execution_count": null,
   "id": "ecee8b11-6117-4225-a3f7-50c40fc70734",
   "metadata": {},
   "outputs": [],
   "source": [
    "import numpy as np\n",
    "import matplotlib.pyplot as plt\n",
    "import astropy\n",
    "import spectral_cube\n",
    "from astropy import units as u\n",
    "import aplpy\n",
    "from spectral_cube import SpectralCube\n",
    "import regions\n",
    "from astropy import wcs\n",
    "from astropy.wcs import WCS\n",
    "from astropy.utils.data import get_pkg_data_filename\n",
    "from astropy.io import fits\n",
    "from astropy.coordinates import Angle, SkyCoord\n",
    "from astropy import constants\n",
    "from regions import CircleSkyRegion\n",
    "from regions import PixCoord\n",
    "import ast\n",
    "\n",
    "import os\n",
    "import math as m\n",
    "import pandas as pd\n",
    "\n",
    "import warnings\n",
    "warnings.simplefilter('ignore')"
   ]
  },
  {
   "cell_type": "code",
   "execution_count": null,
   "id": "bca0bb32-4c43-4b9c-aa13-c4e64babd2e9",
   "metadata": {},
   "outputs": [],
   "source": [
    "raw={}\n",
    "filename=['etacar_CO(2-1).fits','etacar-13co32.fits','etacar-13co21.fits','etacar-c18o21.fits','etacar-ci.fits','etacar-co32.fits','Cycle7_GR_OT_07_0028-CI492_final.lmv.fits',\n",
    "         'Cycle7_GR_OT_07_0028-CO87_final.lmv.fits','Cycle7_GR_OT_07_0028-NII_final.lmv.fits','Cycle7_GR_OT_07_0028-OI63_final.lmv.fits','carina.HI.fits']\n",
    "\n",
    "for i in range(len(filename)):\n",
    "    cube=SpectralCube.read(filename[i])\n",
    "    raw[i]=cube\n",
    "    #print(raw[i])"
   ]
  },
  {
   "cell_type": "code",
   "execution_count": null,
   "id": "bf21c873-a311-47f8-bf90-a538f9d0aa88",
   "metadata": {},
   "outputs": [],
   "source": [
    "line=[]\n",
    "for i in range(len(filename)-1):\n",
    "    #print(raw[i].header['LINE'],raw[i].header['BUNIT'],raw[i].header['RESTFRQ'],raw[i].header['CDELT3'])\n",
    "    line.append(raw[i].header['LINE'])\n",
    "line.append('HI')"
   ]
  },
  {
   "cell_type": "code",
   "execution_count": null,
   "id": "dd20eeaf-73e8-431b-8881-99d61d9a3bf5",
   "metadata": {},
   "outputs": [],
   "source": [
    "reg_no=['Region 1','Region 2','Region 3','Region 4','Region 5','Region 6','Region 7']\n",
    "region_list = regions.Regions.read('region_list.reg')"
   ]
  },
  {
   "cell_type": "code",
   "execution_count": null,
   "id": "563a12f4-acd1-4ea6-acac-3634610b2890",
   "metadata": {},
   "outputs": [],
   "source": [
    "def spec(filename):\n",
    "    cube = SpectralCube.read(filename)\n",
    "    \n",
    "    cube1=cube.with_spectral_unit(u.km / u.s)\n",
    "    spec_axis=cube1.spectral_axis[:]\n",
    "    moment_0=cube1.moment(order=0)\n",
    "\n",
    "    wcs = WCS(moment_0.header)  \n",
    "\n",
    "    pix_reg=[]\n",
    "    for i in range(7):\n",
    "        reg=region_list[i]\n",
    "        pix_reg.append(reg.to_pixel(wcs))\n",
    "\n",
    "    cube2=np.asarray(cube1)\n",
    "                \n",
    "    dec=len(cube2[0,:,0])\n",
    "    ra=len(cube2[0,0,:])\n",
    "    spec=len(cube2[:,0,0])\n",
    "\n",
    "    sub={key: [] for key in reg_no}\n",
    "\n",
    "    for t in range(len(reg_no)):\n",
    "        subcube=np.zeros(shape=(spec,dec,ra))\n",
    "        for i in range(dec):\n",
    "            for j in range(ra):\n",
    "                if pix_reg[t].contains(PixCoord(j,i)) == True:\n",
    "                    subcube[:,i,j]=cube[:,i,j]\n",
    "                else:\n",
    "                    subcube[:,i,j]=np.nan\n",
    "        sub[reg_no[t]]=np.nanmean(subcube,axis=(1,2))\n",
    "    return sub, spec_axis"
   ]
  },
  {
   "cell_type": "code",
   "execution_count": null,
   "id": "37b600de-7556-4d31-9746-ff60b1bf3ea5",
   "metadata": {},
   "outputs": [],
   "source": [
    "spectrum ,spec_axis = spec('etacar-13co21.fits')"
   ]
  },
  {
   "cell_type": "code",
   "execution_count": null,
   "id": "74532e29-bc76-4f86-b725-3878cdd5cc2e",
   "metadata": {},
   "outputs": [],
   "source": [
    "# reading the data from the file\n",
    "path = '/home/wolf/Documents/Group_Project/'\n",
    "dict_names = ['amps.txt', 'means.txt','sigma.txt']\n",
    "list_dict = [1,2,3]\n",
    "for i in range(3):\n",
    "    with open(path+dict_names[i]) as f:\n",
    "        list_dict[i] = f.read()\n",
    "    list_dict[i] = ast.literal_eval(list_dict[i])\n",
    "Amps, Means, Sigma = list_dict[0], list_dict[1], list_dict[2]"
   ]
  },
  {
   "cell_type": "code",
   "execution_count": null,
   "id": "4fff348b-4c3d-42bd-8a1b-130c8d8d7267",
   "metadata": {},
   "outputs": [],
   "source": [
    "cube = SpectralCube.read('etacar-13co21.fits')\n",
    "spectrum = cube.with_spectral_unit(u.km / u.s).spectral_axis"
   ]
  },
  {
   "cell_type": "markdown",
   "id": "cb0fea66-4024-4052-b80a-9e9e8899c6e8",
   "metadata": {},
   "source": [
    "### Optical depth"
   ]
  },
  {
   "cell_type": "code",
   "execution_count": 315,
   "id": "0a8dc935-7b9d-4f2b-9605-fbf112595952",
   "metadata": {},
   "outputs": [],
   "source": [
    "line_reg ={key: {} for key in line}\n",
    "for i in range(len(line)):\n",
    "    line_reg[line[i]] = {key: [] for key in reg_no}\n",
    "\n",
    "## Main beam efficiency\n",
    "eff = 0.84\n",
    "\n",
    "for j in range(len(reg_no)):\n",
    "    for i in range(len(line)):\n",
    "        line_reg[line[i]][reg_no[j]] = np.asarray(Amps[line[i]][j])/eff\n",
    "\n",
    "sigma_reg ={key: {} for key in line}\n",
    "for i in range(len(line)):\n",
    "    sigma_reg[line[i]] = {key: [] for key in reg_no}\n",
    "\n",
    "for j in range(len(reg_no)):\n",
    "    for i in range(len(line)):\n",
    "        sigma_reg[line[i]][reg_no[j]] = Sigma[line[i]][j]\n",
    "\n",
    "velo_reg ={key: {} for key in line}\n",
    "for i in range(len(line)):\n",
    "    velo_reg[line[i]] = {key: [] for key in reg_no}\n",
    "\n",
    "for j in range(len(reg_no)):\n",
    "    for i in range(len(line)):\n",
    "        velo_reg[line[i]][reg_no[j]] = Means[line[i]][j]"
   ]
  },
  {
   "cell_type": "code",
   "execution_count": null,
   "id": "c7e0112e-f7be-466f-b048-f4e3b3ff27d7",
   "metadata": {},
   "outputs": [],
   "source": [
    "T_0 = [16.6, #CO(2-1)\n",
    "       31.73, #13CO(3-2)\n",
    "       15.87, #13CO(2-1)\n",
    "       15.81, #C18O(2-1)\n",
    "       62.462, #CI(2-1)\n",
    "       33.19, #CO(3-2)\n",
    "       23.620, #CI492\n",
    "       199.11, #CO(8-7)\n",
    "       188.10, #NII\n",
    "      227.712, #OI63\n",
    "      0.0682, #HI\n",
    "      ]"
   ]
  },
  {
   "cell_type": "code",
   "execution_count": 316,
   "id": "ae2ca0fb-e3f8-4893-a88c-3ed5bd7e95e1",
   "metadata": {},
   "outputs": [],
   "source": [
    "T_ex = {key: [] for key in reg_no}\n",
    "E_u = 16.6 #\n",
    "T_bg = 2.7 #CMB temperature\n",
    "x1 = np.exp(E_u/T_bg)-1\n",
    "for i in range(len(reg_no)):\n",
    "    for j in range(len(line_reg['CO(2-1)'][reg_no[i]])):\n",
    "        E_r = line_reg['CO(2-1)'][reg_no[i]][j]\n",
    "        x2 = E_u*x1/((E_r*x1)-E_u)+1\n",
    "        x3 = E_u/np.log(x2)\n",
    "        T_ex[reg_no[i]].append(x3)"
   ]
  },
  {
   "cell_type": "code",
   "execution_count": 317,
   "id": "f73f3ec4-972c-46c7-b270-d6a2455c1376",
   "metadata": {},
   "outputs": [],
   "source": [
    "def optical_depth(T_0,T_r,T_ex):\n",
    "    J_v = 1/(np.exp(T_0/T_ex)-1)\n",
    "    J_0 = 1/(np.exp(T_0/T_bg)-1)\n",
    "    y = T_0*(J_v - J_0)\n",
    "    try:\n",
    "        opt_dep = -np.log(1-T_r/y)\n",
    "    except:\n",
    "        opt_dep = -2\n",
    "    return opt_dep"
   ]
  },
  {
   "cell_type": "code",
   "execution_count": 318,
   "id": "78d45ed2-1bb9-462b-a35a-370c7b82bdf0",
   "metadata": {},
   "outputs": [],
   "source": [
    "opt_dep ={key: {} for key in line}\n",
    "for i in range(len(line)):\n",
    "    opt_dep[line[i]] = {key: [] for key in reg_no}\n",
    "\n",
    "for l in range(len(line)):\n",
    "    for j in range(len(reg_no)):\n",
    "        for k in range(len(line_reg[line[l]][reg_no[j]])):\n",
    "            T_r = line_reg[line[l]][reg_no[j]][k] \n",
    "            T_0_ = T_0[l]\n",
    "            try:\n",
    "                optdep_value = optical_depth(T_0_,T_r,T_ex[reg_no[j]][k])\n",
    "            except:\n",
    "                optdep_value = -1\n",
    "            opt_dep[line[l]][reg_no[j]].append(optdep_value)"
   ]
  },
  {
   "cell_type": "code",
   "execution_count": 320,
   "id": "1b56e068-ae2b-4d6b-b770-0a661c1c28f3",
   "metadata": {},
   "outputs": [],
   "source": [
    "velo_max, amps_max, sigma_max, T_exc, Tmb_max, Opt = np.zeros(7), np.zeros(7), np.zeros(7), np.zeros(7), np.zeros(7), np.zeros(7)\n",
    "for i in range(len(reg_no)):\n",
    "    for j in range(len(line_reg['CO(2-1)'][reg_no[i]])):\n",
    "        if line_reg['CO(2-1)'][reg_no[i]][j] == max(line_reg['CO(2-1)'][reg_no[i]]):\n",
    "            velo_max[i] = velo_reg['13co21'][reg_no[i]][j]\n",
    "            amps_max[i] = Amps['13co21'][i][j]\n",
    "            Tmb_max[i] = line_reg['CO(2-1)'][reg_no[i]][j]\n",
    "            sigma_max[i] = sigma_reg['13co21'][reg_no[i]][j]\n",
    "            T_exc[i] = T_ex[reg_no[i]][j]\n",
    "            Opt[i] = opt_dep['13co21'][reg_no[i]][j]\n",
    "        else:\n",
    "            pass"
   ]
  },
  {
   "cell_type": "markdown",
   "id": "646af77d-51ba-4568-808e-595352e2171f",
   "metadata": {},
   "source": [
    "### Column Density"
   ]
  },
  {
   "cell_type": "code",
   "execution_count": 328,
   "id": "989969f1-8771-4e3f-b96d-faed5890c607",
   "metadata": {},
   "outputs": [],
   "source": [
    "h = constants.h.cgs.value\n",
    "k_b = constants.k_B.cgs.value\n",
    "c = constants.c.cgs.value"
   ]
  },
  {
   "cell_type": "markdown",
   "id": "7c23c70b-29c9-48eb-9351-bbcc4c8d7b6f",
   "metadata": {},
   "source": [
    "#### Partition function\n",
    "To calculate the rotational partition function, we will make a statistical sum of all energy level of CO\n",
    "$$ Q_{rot} = \\Sigma g_i e^{-\\frac{E_i}{kT}}$$\n",
    "\n",
    "CO is dominated by rotational energy, because the dipole moment (the difference in electronegativity of C and O) of CO."
   ]
  },
  {
   "cell_type": "code",
   "execution_count": null,
   "id": "a833ac69-81a7-428f-bbb5-cbd3f74f039b",
   "metadata": {},
   "outputs": [],
   "source": [
    "def partition_function(g, Ei, T):\n",
    "    return g*np.exp(-h*c*Ei/(k_b*T))"
   ]
  },
  {
   "cell_type": "code",
   "execution_count": 323,
   "id": "ed14cd98-a32a-4e40-94b8-dd7d8301b577",
   "metadata": {},
   "outputs": [],
   "source": [
    "part_data = \"Data/co.dat\" \n",
    "df_ = pd.read_table(part_data,skiprows=7,usecols=[1,2],nrows=41,names=['E','g'],delim_whitespace=True)"
   ]
  },
  {
   "cell_type": "code",
   "execution_count": 329,
   "id": "a5bca25c-5c84-4393-8131-ac43f9e97de5",
   "metadata": {},
   "outputs": [],
   "source": [
    "Q_rot = {key: [] for key in reg_no}\n",
    "for i in range(len(reg_no)):\n",
    "    T = T_exc[i]\n",
    "    Q = 0\n",
    "    for k in range(len(df_['E'])):\n",
    "        Q = Q + partition_function(df_['g'][k],df_['E'][k],T)\n",
    "    Q_rot[reg_no[i]].append(Q)"
   ]
  },
  {
   "cell_type": "code",
   "execution_count": null,
   "id": "c8adb600-704c-4e7e-9aa2-c7856a56f629",
   "metadata": {},
   "outputs": [],
   "source": [
    "f_co = ( 230.5380000*10**9 )/u.s\n",
    "Aul = 6.910e-07/u.s\n",
    "gu = 5.0\n",
    "T_Eu = 16.60*u.K # T_Eu = Eu/kb \n",
    "gamma = 8*np.pi*k_b*(f_co**2)/(h*(c**3)*Aul)\n",
    "#def moment_0(mean,sigma):\n",
    "#    return lambda y: 1/(2*np.sqrt(2)*sigma)*m.erf((y-mean)/(m.sqrt(2)*sigma))"
   ]
  },
  {
   "cell_type": "markdown",
   "id": "e0ac010a-9f95-46b0-afe9-b48b22eede22",
   "metadata": {},
   "source": [
    "#### Calculation Terms\n",
    "Constants term\n",
    "$$ \\gamma = \\frac{8 \\pi k_B \\nu^2}{hc^3 A_ul} $$\n",
    "Partition function\n",
    "$$ Q = \\Sigma g_i e^{-\\frac{E_i}{kT}}$$\n",
    "Correction factor\n",
    "$$ \\tau_{term} = \\frac{\\tau}{1-e^{-\\tau}} $$\n",
    "Moment zero\n",
    "$$ M = \\int {T_{mb}} dv $$"
   ]
  },
  {
   "cell_type": "markdown",
   "id": "054ea89a-deb6-4796-a637-4f1192b9304e",
   "metadata": {},
   "source": [
    "**Column density**\n",
    "$$ N = \\frac{8 \\pi k_B \\nu^2}{hc^3 A_ul} \\frac{Q_{rot}}{g_u} exp(\\frac{E_u}{k_B T_{ex}}) \\frac{\\tau}{1-e^{-\\tau}} \\int T_{mb} dv$$\n",
    "<br>\n",
    "$$ N = \\gamma \\times \\frac{Q}{g_u} \\times \\tau_{term} \\times M$$"
   ]
  },
  {
   "cell_type": "code",
   "execution_count": 331,
   "id": "4273dd50-3837-4d72-8dd5-c6c4260c8da5",
   "metadata": {},
   "outputs": [],
   "source": [
    "Column_den = {key: [] for key in reg_no}\n",
    "moment_0 = {key: [] for key in reg_no}\n",
    "for i in range(7):\n",
    "    Q = Q_rot[reg_no[i]] #partition function\n",
    "    T = T_exc[i]*u.K #excitation temperature\n",
    "    sigma = sigma_max[i]\n",
    "    mean = mean_max[i]\n",
    "    M = spectrum[reg_no[i]]*u.K*50000*u.cm/u.s\n",
    "    m = M.sum() #moment 0, integral of Tmb over velocity\n",
    "    tau = Opt[i]\n",
    "    tau_term = tau/(1-np.exp(-tau))\n",
    "    moment_0[reg_no[i]].append(m)\n",
    "    #Col_den = 8*np.pi*k_b*f_co**2/(h*c**3*Aul) * Q/gu * np.exp(Eu/k_b*T) * (moment_0(mean, sigma)(-50) - moment_0(mean, sigma)(50))\n",
    "    Col_den = gamma * Q/gu * np.exp(T_Eu/T) * tau_term * m\n",
    "    Column_den[reg_no[i]] = Col_den"
   ]
  },
  {
   "cell_type": "code",
   "execution_count": 339,
   "id": "83472a58-aba3-41d8-b388-9e605141c23d",
   "metadata": {},
   "outputs": [],
   "source": [
    "Column_den"
   ]
  },
  {
   "cell_type": "code",
   "execution_count": 372,
   "id": "cbe70dc4-f75a-4ebb-8b22-add507277a79",
   "metadata": {},
   "outputs": [],
   "source": [
    "def N12_fun(n13):\n",
    "    return 65*n13\n",
    "def N_H2_fun(n13):\n",
    "    return 65*n13/1e-4\n",
    "def N_H2_fun2(n13):\n",
    "    return 5e21*n13/(2.7*1e15*3.1)\n",
    "    #return 0.94*1e21*n13/(2.5*1e15)\n",
    "def av(n13):\n",
    "    return n13/(2.7*1e15)"
   ]
  },
  {
   "cell_type": "code",
   "execution_count": 373,
   "id": "b4d2cd65-e7db-4260-b637-690f68dbb661",
   "metadata": {},
   "outputs": [],
   "source": [
    "N13 = {key: [] for key in reg_no}\n",
    "N12 = {key: [] for key in reg_no}\n",
    "N_H2 = {key: [] for key in reg_no}\n",
    "N_H2_av = {key: [] for key in reg_no}\n",
    "Av = {key: [] for key in reg_no}\n",
    "for i in range(len(reg_no)):\n",
    "    m = Column_den[reg_no[i]][0].value\n",
    "    N13[reg_no[i]].append(m)\n",
    "    N12[reg_no[i]].append(N12_fun(m))\n",
    "    N_H2[reg_no[i]].append(N_H2_fun(m))\n",
    "    N_H2_av[reg_no[i]].append(N_H2_fun2(m))\n",
    "    Av[reg_no[i]].append(av(m))"
   ]
  },
  {
   "cell_type": "code",
   "execution_count": 374,
   "id": "5965b959-1f54-4fe4-a42d-3dde1e114949",
   "metadata": {},
   "outputs": [
    {
     "data": {
      "text/plain": [
       "{'Region 1': [2.074854173524556],\n",
       " 'Region 2': [0.7016393538746292],\n",
       " 'Region 3': [0.267821315966921],\n",
       " 'Region 4': [0.51762718338801],\n",
       " 'Region 5': [0.6869225211417909],\n",
       " 'Region 6': [0.5810411030763032],\n",
       " 'Region 7': [0.3355731688275836]}"
      ]
     },
     "execution_count": 374,
     "metadata": {},
     "output_type": "execute_result"
    }
   ],
   "source": [
    "Av"
   ]
  },
  {
   "cell_type": "markdown",
   "id": "f59441b6-c621-4824-818f-1528314aaa06",
   "metadata": {},
   "source": [
    "### Mass of Molecular Cloud"
   ]
  },
  {
   "cell_type": "markdown",
   "id": "5577a852-ab8e-40fb-947a-b65c9ced20fe",
   "metadata": {},
   "source": [
    "Most of particles in atomic cloud is H and in molecular cloud is H2. We can assume that there is 90% H + 10% He in our atomic cloud. So, we assume that the equivalent mass of a mixed particle with $ 87\\%mp + 13\\%(4mp)$ (we denote $mH = mp$, because Hydrogen molecular has only 1 proton). Thus,\n",
    "$$ m_{equi} = \\mu \\times m_{H}$$\n",
    "where $\\mu = 1.4$.<br>\n",
    "With molecular cloud $\\mu = 2*1.4 = 2.8$\n",
    "$$ M_{gas} = \\pi R_{equi}^2 \\times N_{H_2} \\times \\mu \\times m_{H}$$\n",
    "wher $R_{equi} = \\sqrt{a \\times b}$ with $a, b$ are height and width of eliptical regions."
   ]
  },
  {
   "cell_type": "code",
   "execution_count": 290,
   "id": "9219491b-aabc-4bc4-a540-14e763ddc219",
   "metadata": {},
   "outputs": [],
   "source": [
    "mH = constants.u.cgs\n",
    "pc = constants.pc.cgs\n",
    "dis = 2600*pc\n",
    "M_sun = 1.989 * 10e33 * u.g"
   ]
  },
  {
   "cell_type": "code",
   "execution_count": 291,
   "id": "092fbac2-ca9c-4ee1-becd-d284ce379071",
   "metadata": {},
   "outputs": [],
   "source": [
    "def Mass_fun(n_gas,a=1,b=1,muy=2.8,mH = mH):\n",
    "    return np.pi * (a*b) * n_gas * muy * mH"
   ]
  },
  {
   "cell_type": "code",
   "execution_count": 292,
   "id": "1db9665f-0b0e-4eb9-81b1-c6314d48ce02",
   "metadata": {},
   "outputs": [],
   "source": [
    "rad = list()\n",
    "height = list()\n",
    "width = list()\n",
    "for i in range(3):\n",
    "    r = region_list[i].radius \n",
    "    rad.append(r.to(u.radian)*dis/u.rad)\n",
    "for i in range(3,7):\n",
    "    h = region_list[i].height\n",
    "    w = region_list[4].width\n",
    "    height.append(h.to(u.radian)*dis/u.rad)\n",
    "    width.append(w.to(u.radian)*dis/u.rad)"
   ]
  },
  {
   "cell_type": "code",
   "execution_count": 334,
   "id": "a7757d1a-33cc-4233-be46-c6689ac286c7",
   "metadata": {},
   "outputs": [],
   "source": [
    "M_gas = {key: [] for key in reg_no}\n",
    "M_g_s = {key: [] for key in reg_no}\n",
    "for i in range(3):\n",
    "    M_gas[reg_no[i]].append(Mass_fun(N_H2[reg_no[i]][0],a = rad[i],b = rad[i]).value)\n",
    "for i in range(3,7):\n",
    "    M_gas[reg_no[i]].append(Mass_fun(N_H2[reg_no[i]][0],a = height[i-3],b = width[i-3]).value)\n",
    "for i in range(7):\n",
    "    M_g_s[reg_no[i]].append(M_gas[reg_no[i]][0]/M_sun.value)"
   ]
  },
  {
   "cell_type": "code",
   "execution_count": 335,
   "id": "fd9c5a8b-04ba-4409-86bc-f6e91264a872",
   "metadata": {},
   "outputs": [],
   "source": [
    "convert_files = [Tmb_max,velo_max,sigma_max,T_exc]\n",
    "Tmb, V, Sig, T_exci = {key: [] for key in reg_no}, {key: [] for key in reg_no}, {key: [] for key in reg_no}, {key: [] for key in reg_no}\n",
    "file_out = [Tmb, V, Sig, T_exci]"
   ]
  },
  {
   "cell_type": "code",
   "execution_count": 260,
   "id": "7e44ddcf-9312-4070-8baf-fb2ff9f08978",
   "metadata": {},
   "outputs": [],
   "source": [
    "def convert_file(file_in, file_out):\n",
    "    for i in range(7):\n",
    "        file_out[reg_no[i]].append(file_in[i])"
   ]
  },
  {
   "cell_type": "code",
   "execution_count": 336,
   "id": "684bb23b-d68f-4dc1-89b0-ef097048fd46",
   "metadata": {},
   "outputs": [],
   "source": [
    "for i in range(4):\n",
    "    convert_file(convert_files[i], file_out[i])"
   ]
  },
  {
   "cell_type": "code",
   "execution_count": 367,
   "id": "36282f83-9703-4a47-85fd-db64e8f9eb1f",
   "metadata": {},
   "outputs": [],
   "source": [
    "data = [Tmb,V,Sig,T_exci,N13,N_H2,N_H2_av,M_gas,M_g_s,Av]\n",
    "dataframes = []\n",
    "for datum in data:\n",
    "    dataframes.append(pd.DataFrame(datum))\n",
    "df = pd.concat(dataframes).T\n",
    "df.columns = ['Tmb max','v','sigma','Tex','N(13)','N(H2)','N(H2) (Av)','M gas','M gas/M sun','Av']"
   ]
  },
  {
   "cell_type": "code",
   "execution_count": 368,
   "id": "d2c42e5b-55f7-41fa-a92d-d616eb0bae56",
   "metadata": {},
   "outputs": [
    {
     "data": {
      "text/html": [
       "<div>\n",
       "<style scoped>\n",
       "    .dataframe tbody tr th:only-of-type {\n",
       "        vertical-align: middle;\n",
       "    }\n",
       "\n",
       "    .dataframe tbody tr th {\n",
       "        vertical-align: top;\n",
       "    }\n",
       "\n",
       "    .dataframe thead th {\n",
       "        text-align: right;\n",
       "    }\n",
       "</style>\n",
       "<table border=\"1\" class=\"dataframe\">\n",
       "  <thead>\n",
       "    <tr style=\"text-align: right;\">\n",
       "      <th></th>\n",
       "      <th>Tmb max</th>\n",
       "      <th>v</th>\n",
       "      <th>sigma</th>\n",
       "      <th>Tex</th>\n",
       "      <th>N(13)</th>\n",
       "      <th>N(H2)</th>\n",
       "      <th>N(H2) (Av)</th>\n",
       "      <th>M gas</th>\n",
       "      <th>M gas/M sun</th>\n",
       "      <th>Av</th>\n",
       "    </tr>\n",
       "  </thead>\n",
       "  <tbody>\n",
       "    <tr>\n",
       "      <th>Region 1</th>\n",
       "      <td>10.408769</td>\n",
       "      <td>-17.031921</td>\n",
       "      <td>0.755229</td>\n",
       "      <td>17.370966</td>\n",
       "      <td>5.602106e+15</td>\n",
       "      <td>3.641369e+21</td>\n",
       "      <td>3.346539e+21</td>\n",
       "      <td>7.435680e+34</td>\n",
       "      <td>3.738401</td>\n",
       "      <td>2.074854</td>\n",
       "    </tr>\n",
       "    <tr>\n",
       "      <th>Region 2</th>\n",
       "      <td>7.241952</td>\n",
       "      <td>-31.806545</td>\n",
       "      <td>0.619352</td>\n",
       "      <td>13.891382</td>\n",
       "      <td>1.894426e+15</td>\n",
       "      <td>1.231377e+21</td>\n",
       "      <td>1.131676e+21</td>\n",
       "      <td>2.556216e+34</td>\n",
       "      <td>1.285176</td>\n",
       "      <td>0.701639</td>\n",
       "    </tr>\n",
       "    <tr>\n",
       "      <th>Region 3</th>\n",
       "      <td>5.678113</td>\n",
       "      <td>-31.801578</td>\n",
       "      <td>0.552112</td>\n",
       "      <td>12.102033</td>\n",
       "      <td>7.231176e+14</td>\n",
       "      <td>4.700264e+20</td>\n",
       "      <td>4.319699e+20</td>\n",
       "      <td>1.056909e+34</td>\n",
       "      <td>0.531377</td>\n",
       "      <td>0.267821</td>\n",
       "    </tr>\n",
       "    <tr>\n",
       "      <th>Region 4</th>\n",
       "      <td>2.349739</td>\n",
       "      <td>-7.997611</td>\n",
       "      <td>1.044844</td>\n",
       "      <td>7.901541</td>\n",
       "      <td>1.397593e+15</td>\n",
       "      <td>9.084357e+20</td>\n",
       "      <td>8.348826e+20</td>\n",
       "      <td>9.005976e+34</td>\n",
       "      <td>4.527891</td>\n",
       "      <td>0.517627</td>\n",
       "    </tr>\n",
       "    <tr>\n",
       "      <th>Region 5</th>\n",
       "      <td>3.629187</td>\n",
       "      <td>-24.646621</td>\n",
       "      <td>0.757713</td>\n",
       "      <td>9.616473</td>\n",
       "      <td>1.854691e+15</td>\n",
       "      <td>1.205549e+21</td>\n",
       "      <td>1.107940e+21</td>\n",
       "      <td>1.195299e+35</td>\n",
       "      <td>6.009546</td>\n",
       "      <td>0.686923</td>\n",
       "    </tr>\n",
       "    <tr>\n",
       "      <th>Region 6</th>\n",
       "      <td>1.497211</td>\n",
       "      <td>-0.720644</td>\n",
       "      <td>0.454021</td>\n",
       "      <td>6.602438</td>\n",
       "      <td>1.568811e+15</td>\n",
       "      <td>1.019727e+21</td>\n",
       "      <td>9.371631e+20</td>\n",
       "      <td>1.230828e+35</td>\n",
       "      <td>6.188177</td>\n",
       "      <td>0.581041</td>\n",
       "    </tr>\n",
       "    <tr>\n",
       "      <th>Region 7</th>\n",
       "      <td>3.436902</td>\n",
       "      <td>-30.982613</td>\n",
       "      <td>0.604079</td>\n",
       "      <td>9.369909</td>\n",
       "      <td>9.060476e+14</td>\n",
       "      <td>5.889309e+20</td>\n",
       "      <td>5.412470e+20</td>\n",
       "      <td>7.507303e+34</td>\n",
       "      <td>3.774411</td>\n",
       "      <td>0.335573</td>\n",
       "    </tr>\n",
       "  </tbody>\n",
       "</table>\n",
       "</div>"
      ],
      "text/plain": [
       "            Tmb max          v     sigma        Tex         N(13)  \\\n",
       "Region 1  10.408769 -17.031921  0.755229  17.370966  5.602106e+15   \n",
       "Region 2   7.241952 -31.806545  0.619352  13.891382  1.894426e+15   \n",
       "Region 3   5.678113 -31.801578  0.552112  12.102033  7.231176e+14   \n",
       "Region 4   2.349739  -7.997611  1.044844   7.901541  1.397593e+15   \n",
       "Region 5   3.629187 -24.646621  0.757713   9.616473  1.854691e+15   \n",
       "Region 6   1.497211  -0.720644  0.454021   6.602438  1.568811e+15   \n",
       "Region 7   3.436902 -30.982613  0.604079   9.369909  9.060476e+14   \n",
       "\n",
       "                 N(H2)    N(H2) (Av)         M gas  M gas/M sun        Av  \n",
       "Region 1  3.641369e+21  3.346539e+21  7.435680e+34     3.738401  2.074854  \n",
       "Region 2  1.231377e+21  1.131676e+21  2.556216e+34     1.285176  0.701639  \n",
       "Region 3  4.700264e+20  4.319699e+20  1.056909e+34     0.531377  0.267821  \n",
       "Region 4  9.084357e+20  8.348826e+20  9.005976e+34     4.527891  0.517627  \n",
       "Region 5  1.205549e+21  1.107940e+21  1.195299e+35     6.009546  0.686923  \n",
       "Region 6  1.019727e+21  9.371631e+20  1.230828e+35     6.188177  0.581041  \n",
       "Region 7  5.889309e+20  5.412470e+20  7.507303e+34     3.774411  0.335573  "
      ]
     },
     "execution_count": 368,
     "metadata": {},
     "output_type": "execute_result"
    }
   ],
   "source": [
    "df"
   ]
  },
  {
   "cell_type": "code",
   "execution_count": 375,
   "id": "b3a6d5e2-bd4a-49ef-bd5f-4c86bf373647",
   "metadata": {},
   "outputs": [],
   "source": [
    "df.to_excel('Output/phy_pro.xlsx')"
   ]
  }
 ],
 "metadata": {
  "kernelspec": {
   "display_name": "Python 3 (ipykernel)",
   "language": "python",
   "name": "python3"
  },
  "language_info": {
   "codemirror_mode": {
    "name": "ipython",
    "version": 3
   },
   "file_extension": ".py",
   "mimetype": "text/x-python",
   "name": "python",
   "nbconvert_exporter": "python",
   "pygments_lexer": "ipython3",
   "version": "3.9.13"
  }
 },
 "nbformat": 4,
 "nbformat_minor": 5
}
